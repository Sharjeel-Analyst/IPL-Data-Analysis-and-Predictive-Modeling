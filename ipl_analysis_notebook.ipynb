{
 "cells": [
  {
   "cell_type": "markdown",
   "id": "56ffe1a5",
   "metadata": {},
   "source": [
    "# IPL Deliveries and Matches Analysis"
   ]
  },
  {
   "cell_type": "markdown",
   "id": "b1dc9838",
   "metadata": {},
   "source": [
    "\n",
    "This Jupyter notebook provides a detailed exploratory data analysis (EDA) of IPL deliveries and match data. We have merged two datasets: one containing details about each delivery in a match, and the other containing match-level information.\n",
    "The goal is to analyze team performances, individual match details, and various other statistics.\n"
   ]
  },
  {
   "cell_type": "markdown",
   "id": "e8b5edd2",
   "metadata": {},
   "source": [
    "## 1. Data Exploration"
   ]
  },
  {
   "cell_type": "code",
   "execution_count": null,
   "id": "fcab17b2",
   "metadata": {},
   "outputs": [],
   "source": [
    "\n",
    "import pandas as pd\n",
    "\n",
    "# Load the datasets\n",
    "deliveries_df = pd.read_csv('/mnt/data/deliveries.csv')\n",
    "matches_df = pd.read_csv('/mnt/data/matches.csv')\n",
    "\n",
    "# Merge datasets on 'match_id'\n",
    "merged_df = pd.merge(deliveries_df, matches_df, left_on='match_id', right_on='id', how='inner')\n",
    "\n",
    "# Display basic information about the merged dataset\n",
    "merged_df.info()\n"
   ]
  },
  {
   "cell_type": "markdown",
   "id": "fe864d19",
   "metadata": {},
   "source": [
    "### 1.1 Descriptive Statistics"
   ]
  },
  {
   "cell_type": "code",
   "execution_count": null,
   "id": "6a713f95",
   "metadata": {},
   "outputs": [],
   "source": [
    "\n",
    "# Summary statistics for numerical columns\n",
    "summary_stats = merged_df.describe()\n",
    "summary_stats\n"
   ]
  },
  {
   "cell_type": "markdown",
   "id": "aface766",
   "metadata": {},
   "source": [
    "### 1.2 Team-wise Analysis"
   ]
  },
  {
   "cell_type": "code",
   "execution_count": null,
   "id": "7e90cbf7",
   "metadata": {},
   "outputs": [],
   "source": [
    "\n",
    "# Count of matches played by each team\n",
    "team_counts = merged_df['batting_team'].value_counts()\n",
    "\n",
    "# Number of wins per team\n",
    "team_wins = merged_df.groupby('winner').size().sort_values(ascending=False)\n",
    "\n",
    "# Total runs scored by each team\n",
    "team_runs = merged_df.groupby('batting_team')['batsman_runs'].sum().sort_values(ascending=False)\n",
    "\n",
    "# Display results\n",
    "team_counts.head(), team_wins.head(), team_runs.head()\n"
   ]
  },
  {
   "cell_type": "markdown",
   "id": "860c98d4",
   "metadata": {},
   "source": [
    "## 2. Data Visualizations"
   ]
  },
  {
   "cell_type": "markdown",
   "id": "7e86d69f",
   "metadata": {},
   "source": [
    "### 2.1 Number of Wins by Team"
   ]
  },
  {
   "cell_type": "code",
   "execution_count": null,
   "id": "ac77521a",
   "metadata": {},
   "outputs": [],
   "source": [
    "\n",
    "import matplotlib.pyplot as plt\n",
    "\n",
    "# Plotting the number of wins per team\n",
    "plt.figure(figsize=(12, 6))\n",
    "team_wins.plot(kind='bar', color='skyblue', edgecolor='black')\n",
    "plt.title('Number of Wins by Each Team')\n",
    "plt.xlabel('Teams')\n",
    "plt.ylabel('Number of Wins')\n",
    "plt.xticks(rotation=90)\n",
    "plt.show()\n"
   ]
  },
  {
   "cell_type": "markdown",
   "id": "d27247b3",
   "metadata": {},
   "source": [
    "### 2.2 Total Runs Scored by Team"
   ]
  },
  {
   "cell_type": "code",
   "execution_count": null,
   "id": "716efe96",
   "metadata": {},
   "outputs": [],
   "source": [
    "\n",
    "# Plotting total runs scored by each team\n",
    "plt.figure(figsize=(12, 6))\n",
    "team_runs.plot(kind='bar', color='lightgreen', edgecolor='black')\n",
    "plt.title('Total Runs Scored by Each Team')\n",
    "plt.xlabel('Teams')\n",
    "plt.ylabel('Total Runs')\n",
    "plt.xticks(rotation=90)\n",
    "plt.show()\n"
   ]
  },
  {
   "cell_type": "markdown",
   "id": "3d6ed3f3",
   "metadata": {},
   "source": [
    "## 3. Advanced Exploratory Data Analysis"
   ]
  },
  {
   "cell_type": "markdown",
   "id": "ac2edc90",
   "metadata": {},
   "source": [
    "### 3.1 Correlation Analysis"
   ]
  },
  {
   "cell_type": "code",
   "execution_count": null,
   "id": "30cf9935",
   "metadata": {},
   "outputs": [],
   "source": [
    "\n",
    "# Correlation between different features\n",
    "correlation_matrix = merged_df.corr()\n",
    "plt.figure(figsize=(10, 8))\n",
    "sns.heatmap(correlation_matrix, annot=True, cmap='coolwarm', fmt='.2f', linewidths=0.5)\n",
    "plt.title('Correlation Matrix of Match and Delivery Features')\n",
    "plt.show()\n"
   ]
  }
 ],
 "metadata": {},
 "nbformat": 4,
 "nbformat_minor": 5
}
